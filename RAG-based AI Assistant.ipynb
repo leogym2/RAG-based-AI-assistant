{
 "cells": [
  {
   "cell_type": "markdown",
   "id": "b462d797",
   "metadata": {},
   "source": [
    "# Virtual enviroment creation"
   ]
  },
  {
   "cell_type": "code",
   "execution_count": 1,
   "id": "4189aaf7",
   "metadata": {},
   "outputs": [],
   "source": [
    "!rag_env\\Scripts\\activate"
   ]
  },
  {
   "cell_type": "code",
   "execution_count": 1,
   "id": "1cb2a255",
   "metadata": {},
   "outputs": [
    {
     "name": "stderr",
     "output_type": "stream",
     "text": [
      "c:\\Users\\Leo\\Desktop\\personal code-learn\\RAG\\rag_env\\Lib\\site-packages\\tqdm\\auto.py:21: TqdmWarning: IProgress not found. Please update jupyter and ipywidgets. See https://ipywidgets.readthedocs.io/en/stable/user_install.html\n",
      "  from .autonotebook import tqdm as notebook_tqdm\n"
     ]
    },
    {
     "name": "stdout",
     "output_type": "stream",
     "text": [
      "Torch: 2.2.0+cpu\n",
      "Numpy: 1.26.4\n",
      "ChromaDB: 1.2.0\n"
     ]
    }
   ],
   "source": [
    "import torch, numpy\n",
    "from sentence_transformers import SentenceTransformer\n",
    "import chromadb\n",
    "\n",
    "print(\"Torch:\", torch.__version__)\n",
    "print(\"Numpy:\", numpy.__version__)\n",
    "print(\"ChromaDB:\", chromadb.__version__)\n"
   ]
  },
  {
   "cell_type": "markdown",
   "id": "0794e77e",
   "metadata": {},
   "source": [
    "# Extraction from PDF"
   ]
  },
  {
   "cell_type": "markdown",
   "id": "8bf03709",
   "metadata": {},
   "source": [
    "* Extracts raw text from the PDF using Unstructured.\n",
    "\n",
    "* Splits the document into chunks based on section titles (by_title).\n",
    "\n",
    "* Limits each chunk to 3,000 characters; merges short ones and splits long ones.\n",
    "\n",
    "* Produces clean text blocks ready for embedding generation in the RAG pipeline."
   ]
  },
  {
   "cell_type": "code",
   "execution_count": 2,
   "id": "25f78bed",
   "metadata": {},
   "outputs": [
    {
     "name": "stdout",
     "output_type": "stream",
     "text": [
      "Chunk #: 316\n",
      "Example: Owner's manual Introduction 4 General remarksThis vehicle, which complies with EC homologation parameters, uses advanced technology and is capable of achieving high performance levels. It is equipped with sophisticated active and passive safety systems (described below).These safety features and systems do not authorise the driver to take risks other than those involved in normal driving since their preventive and protective action is guaranteed only in certain conditions. Unless otherwise instr\n"
     ]
    }
   ],
   "source": [
    "from unstructured.partition.pdf import partition_pdf\n",
    "from unstructured.cleaners.core import clean, replace_unicode_quotes\n",
    "import re\n",
    "import nltk\n",
    "\n",
    "PDF_PATH = \"458italia.pdf\"\n",
    "\n",
    "elements = partition_pdf(\n",
    "    filename=PDF_PATH,\n",
    "    strategy=\"fast\",\n",
    "    infer_table_structure=True,\n",
    "    chunking_strategy=\"by_title\",\n",
    "    max_characters=3000,\n",
    "    combine_text_under_n_chars=300,\n",
    "    new_after_n_chars=2000,\n",
    "    extract_images_in_pdf=False,\n",
    ")\n",
    "\n",
    "nltk.download(\"punkt\", quiet=True)\n",
    "\n",
    "def clean_and_split_text(text: str) -> str:\n",
    "    text = re.sub(r'(Downloaded\\s+from\\s+www\\.Manualslib\\.com.*?engine)+', '', text, flags=re.I)\n",
    "\n",
    "    text = replace_unicode_quotes(text)\n",
    "    text = clean(text)\n",
    "\n",
    "    text = re.sub(r'[\\•\\-\\–\\·]+', ' ', text)\n",
    "\n",
    "    text = re.sub(r'\\s+', ' ', text.strip())\n",
    "\n",
    "    return text\n",
    "\n",
    "texts = [\n",
    "    clean_and_split_text(el.text)\n",
    "    for el in elements\n",
    "    if getattr(el, \"text\", None)\n",
    "]\n",
    "\n",
    "print(f\"Chunk #: {len(texts)}\")\n",
    "print(\"Example: \"+texts[0][:500])\n"
   ]
  },
  {
   "cell_type": "markdown",
   "id": "7f5cb39a",
   "metadata": {},
   "source": [
    "### create and save chuncks into the JSON"
   ]
  },
  {
   "cell_type": "code",
   "execution_count": 3,
   "id": "3ecdb1c8",
   "metadata": {},
   "outputs": [
    {
     "name": "stdout",
     "output_type": "stream",
     "text": [
      " Saved 316 chunk in chunks.jsonl\n"
     ]
    }
   ],
   "source": [
    "import json\n",
    "\n",
    "with open(\"chunks.jsonl\", \"w\", encoding=\"utf-8\") as f:\n",
    "    for text in texts:\n",
    "        json.dump({\"text\": text}, f, ensure_ascii=False)\n",
    "        f.write(\"\\n\")\n",
    "\n",
    "print(f\" Saved {len(texts)} chunk in chunks.jsonl\")\n"
   ]
  },
  {
   "cell_type": "markdown",
   "id": "9e697129",
   "metadata": {},
   "source": [
    "## ChromaDB Embedding Pipeline\n",
    "\n",
    "- Set database path and target collection  \n",
    "- Connect to Chroma persistent client and clean old collections  \n",
    "- Create collection with SentenceTransformer embedding function  \n",
    "- Load text chunks from `chunks.jsonl`  \n",
    "- Encode texts and store embeddings in ChromaDB  \n"
   ]
  },
  {
   "cell_type": "code",
   "execution_count": 17,
   "id": "cc726949",
   "metadata": {},
   "outputs": [
    {
     "name": "stdout",
     "output_type": "stream",
     "text": [
      "Deleting collection: rag_docs\n",
      "\n",
      "Using only collection: 'rag_docs_final' (ID: 410fc847-2b65-4c63-a2a8-5670c7822193)\n",
      "Loaded 316 text chunks.\n",
      "Stored 316 chunks with embeddings in persistent Chroma DB.\n"
     ]
    }
   ],
   "source": [
    "from sentence_transformers import SentenceTransformer\n",
    "import chromadb\n",
    "from chromadb.utils import embedding_functions\n",
    "import json\n",
    "import os\n",
    "\n",
    "DB_PATH = \"chroma_db\"\n",
    "TARGET_COLLECTION = \"rag_docs_final\"\n",
    "\n",
    "# Ensure folder exists\n",
    "os.makedirs(DB_PATH, exist_ok=True)\n",
    "\n",
    "# Connect to persistent DB\n",
    "client = chromadb.PersistentClient(path=DB_PATH)\n",
    "\n",
    "# Keep only the target collection\n",
    "for c in client.list_collections():\n",
    "    if c.name != TARGET_COLLECTION:\n",
    "        print(f\"Deleting collection: {c.name}\")\n",
    "        client.delete_collection(c.name)\n",
    "\n",
    "# Define embedding function\n",
    "embedding_fn = embedding_functions.SentenceTransformerEmbeddingFunction(\n",
    "    model_name=\"all-MiniLM-L6-v2\"\n",
    ")\n",
    "\n",
    "# Create collection with embedding function\n",
    "collection = client.get_or_create_collection(\n",
    "    name=TARGET_COLLECTION,\n",
    "    embedding_function=embedding_fn\n",
    ")\n",
    "\n",
    "print(f\"\\nUsing only collection: '{TARGET_COLLECTION}' (ID: {collection.id})\")\n",
    "\n",
    "# Load text chunks\n",
    "with open(\"chunks.jsonl\", \"r\", encoding=\"utf-8\") as f:\n",
    "    texts = [json.loads(line)[\"text\"] for line in f]\n",
    "\n",
    "print(f\"Loaded {len(texts)} text chunks.\")\n",
    "\n",
    "# Encode and store embeddings explicitly\n",
    "model = SentenceTransformer(\"all-MiniLM-L6-v2\")\n",
    "\n",
    "for i, text in enumerate(texts):\n",
    "    emb = model.encode(text).tolist()\n",
    "    collection.add(\n",
    "        ids=[str(i)],\n",
    "        documents=[text],\n",
    "        embeddings=[emb],\n",
    "    )\n",
    "\n",
    "print(f\"Stored {len(texts)} chunks with embeddings in persistent Chroma DB.\")\n"
   ]
  },
  {
   "cell_type": "markdown",
   "id": "9464bbd8",
   "metadata": {},
   "source": [
    "## Visualization"
   ]
  },
  {
   "cell_type": "code",
   "execution_count": 18,
   "id": "241fdbca",
   "metadata": {},
   "outputs": [
    {
     "name": "stdout",
     "output_type": "stream",
     "text": [
      "\n",
      "Collection 'rag_docs_final' contains 316 items.\n",
      "\n",
      "ID: 0\n",
      "Text (beginning): Owner's manual Introduction 4 General remarksThis vehicle, which complies with EC homologation parameters, uses advanced technology and is capable of achieving high performance levels. It is equipped with sophisticated active and passive safety systems (described below).These safety features and sys...\n",
      "Embedding (first 10 dims): [-0.01569819  0.07482845 -0.08127558  0.06908744  0.03128455  0.01125603\n",
      "  0.10095844  0.07520975 -0.06108274 -0.05573786]\n",
      "----------------------------------------------------------------------------------------------------\n",
      "ID: 1\n",
      "Text (beginning): Introduction The driver must pay the utmost attention to the signals of the vehicle and, in particular, the warning lights on the dashboard and buzzers. Even when the warning lights do not indicate a situation of immediate danger, the driver must be cautious in relation to possible consequences/dege...\n",
      "Embedding (first 10 dims): [ 0.02050922  0.06295383 -0.05008964  0.02681744  0.03926263  0.04689884\n",
      "  0.10666895  0.06132101 -0.02233545 -0.0314818 ]\n",
      "----------------------------------------------------------------------------------------------------\n",
      "ID: 2\n",
      "Text (beginning): 5 putting road safety ﬁrst; for example, under conditions of poor or limited visibility, looking at a display with active programmes can be distracting even if you take your eye off the road only for a split second; ensuring, if the previous vehicle owner has installed systems on the vehicle that ar...\n",
      "Embedding (first 10 dims): [ 1.35859540e-02 -7.10402091e-05 -5.15593886e-02 -4.71723713e-02\n",
      "  2.26313137e-02  4.79961447e-02  2.14861799e-03  2.43322402e-02\n",
      " -2.52638906e-02 -1.01070382e-01]\n",
      "----------------------------------------------------------------------------------------------------\n"
     ]
    }
   ],
   "source": [
    "import numpy as np\n",
    "\n",
    "# Retrieve data from the persistent collection\n",
    "data = collection.get(include=[\"documents\", \"embeddings\"])\n",
    "\n",
    "if not data[\"ids\"]:\n",
    "    print(\"No data found in the collection.\")\n",
    "else:\n",
    "    print(f\"\\nCollection '{TARGET_COLLECTION}' contains {len(data['ids'])} items.\\n\")\n",
    "    for i in range(min(3, len(data[\"ids\"]))):\n",
    "        doc = data[\"documents\"][i][:300].replace(\"\\n\", \" \")\n",
    "        emb = np.array(data[\"embeddings\"][i])\n",
    "        print(f\"ID: {data['ids'][i]}\")\n",
    "        print(f\"Text (beginning): {doc}...\")\n",
    "        print(f\"Embedding (first 10 dims): {emb[:10]}\")\n",
    "        print(\"-\" * 100)\n"
   ]
  },
  {
   "cell_type": "markdown",
   "id": "20ddcb2f",
   "metadata": {},
   "source": [
    "# Retrival"
   ]
  },
  {
   "cell_type": "markdown",
   "id": "3b987c79",
   "metadata": {},
   "source": [
    "- Load stored documents and embeddings from ChromaDB  \n",
    "- Encode query using `SentenceTransformer`  \n",
    "- Compute cosine similarity between query and stored embeddings  \n",
    "- Return and print top 3 most relevant documents\n"
   ]
  },
  {
   "cell_type": "code",
   "execution_count": 27,
   "id": "75c16979",
   "metadata": {},
   "outputs": [
    {
     "name": "stdout",
     "output_type": "stream",
     "text": [
      "\n",
      "--- Risultato 1 ---\n",
      "Important note 5 CFuel inertia switchThe fuel inertia switch is a safety device which deactivates the fuel pump relays if a collision occurs.A symbol appears on the left TFT display and the hazard warning lights come on to indicate that the switch has been activated.When the fuel inertia switch is activated, the doors are also unlocked (if locked) and the central dome light comes on.\n",
      "\n",
      "--- Risultato 2 ---\n",
      "Important note E 69 The fuel pump relays can be reactivated by pressing the button in the battery compartment which can be accessed by opening the passenger side footrest. Safety 3 Fuel inertia switchThe fuel inertia switch is a safety device which deactivates the fuel pump relays if a collision occurs.A symbol appears on the left TFT display and the hazard warning lights come on to indicate that \n",
      "\n",
      "--- Risultato 3 ---\n",
      "Safety The exhaust gas generated by the running engine may be hazardous, especially when in closed spaces. As well as consuming oxygen, the engine discharges carbon dioxide, carbon oxide and other toxic gases. Fuel is highly inﬂammable and emits vapours which may be noxious if inhaled. Do not use naked ﬂames or create sparks near the open fuel tank or in any other condition where fuel comes into c\n"
     ]
    }
   ],
   "source": [
    "from sentence_transformers import SentenceTransformer\n",
    "import numpy as np\n",
    "\n",
    "query = \"What is the fuel inertia?\"\n",
    "\n",
    "query_emb = model.encode(query).tolist()\n",
    "\n",
    "results = collection.query(\n",
    "    query_embeddings=[query_emb],\n",
    "    n_results=3\n",
    ")\n",
    "\n",
    "for i, doc in enumerate(results[\"documents\"][0]):\n",
    "    print(f\"\\n--- Risultato {i+1} ---\")\n",
    "    print(doc[:400]) \n"
   ]
  },
  {
   "cell_type": "markdown",
   "id": "7a5dc510",
   "metadata": {},
   "source": [
    "# Asking"
   ]
  },
  {
   "cell_type": "markdown",
   "id": "3f3cb047",
   "metadata": {},
   "source": [
    "- Retrieve top 3 relevant text chunks from ChromaDB using semantic search  \n",
    "- Build a contextual prompt combining the retrieved text and user query  \n",
    "- Send the prompt to the `llama-3.1-8b-instant` model via Groq API  \n",
    "- Generate and print an answer grounded in the provided context  "
   ]
  },
  {
   "cell_type": "code",
   "execution_count": null,
   "id": "62e0a4dd",
   "metadata": {},
   "outputs": [
    {
     "name": "stdout",
     "output_type": "stream",
     "text": [
      "The fuel inertia switch is a safety device that deactivates the fuel pump relays if a collision occurs.\n"
     ]
    }
   ],
   "source": [
    "from groq import Groq\n",
    "\n",
    "client = Groq(api_key=\"GROQ_API_KEY\")  \n",
    "\n",
    "results = collection.query(query_texts=[query], n_results=3)\n",
    "context = \"\\n\\n\".join(results[\"documents\"][0])\n",
    "\n",
    "prompt = f\"\"\"\n",
    "You are a helpful assistant.\n",
    "Use only the context below to answer the question.\n",
    "\n",
    "Context:\n",
    "{context}\n",
    "\n",
    "Question: {query}\n",
    "\"\"\"\n",
    "\n",
    "completion = client.chat.completions.create(\n",
    "    model=\"llama-3.1-8b-instant\",\n",
    "    messages=[\n",
    "        {\"role\": \"system\", \"content\": \"\"},\n",
    "        {\"role\": \"user\", \"content\": prompt},\n",
    "    ],\n",
    "    temperature=0.2,\n",
    "    max_tokens=500,\n",
    ")\n",
    "\n",
    "print(completion.choices[0].message.content)\n"
   ]
  }
 ],
 "metadata": {
  "kernelspec": {
   "display_name": "rag_env",
   "language": "python",
   "name": "python3"
  },
  "language_info": {
   "codemirror_mode": {
    "name": "ipython",
    "version": 3
   },
   "file_extension": ".py",
   "mimetype": "text/x-python",
   "name": "python",
   "nbconvert_exporter": "python",
   "pygments_lexer": "ipython3",
   "version": "3.12.3"
  }
 },
 "nbformat": 4,
 "nbformat_minor": 5
}
